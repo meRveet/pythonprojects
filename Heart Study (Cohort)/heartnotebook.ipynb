{
 "cells": [
  {
   "cell_type": "markdown",
   "metadata": {},
   "source": [
    "# Framingham Heart Study\n",
    "- The study had included cardiovascular diseases risk factors such as:\n",
    "  - Blood pressure \n",
    "  - Blood chemistry \n",
    "  - Lung function\n",
    "  - Smoking history \n",
    "  - Health behaviors \n",
    "  - ECG tracings\n",
    "  - Echocardiography \n",
    "  - Medication use\n",
    "\n",
    "- The outcomes are measured and recorded in the dataset:\n",
    "  - Angina Pectoris \n",
    "  - Myocardial Infarction \n",
    "  - Atherothrombotic \n",
    "  - Infarction or Cerebral Hemorrhage (Stroke) \n",
    "  - Death \n",
    "\n",
    "## Project Objectives\n",
    "1. Data Cleaning\n",
    "   - Look for missing values and determine if observations should be kept\n",
    "   - Observe if there is any outlier and how it influence the data measured\n",
    "   - Process the dataset to match the purpose of different hypothesis\n",
    "2. Conduct Exploratory Data Analysis\n",
    "   - Explore the relationship between each of the risk factors with the respective outcomes observed \n",
    "   - Comparing data from Day 0 to Last period of measure to see if there's any outcome difference\n",
    "\n",
    "3. Conduct Regression Analysis\n",
    "   - Determine what type of regression analysis to be conducted. \n",
    "\n",
    "4. Creating a ML model using the train dataset\n",
    "   - Create model based on variables examine to be correlated\n",
    "   - Fine tune model \n",
    "5. Testing model to determine accuracy of model from train dateset"
   ]
  }
 ],
 "metadata": {
  "language_info": {
   "name": "python"
  },
  "orig_nbformat": 4
 },
 "nbformat": 4,
 "nbformat_minor": 2
}
